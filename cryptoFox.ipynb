{
  "nbformat": 4,
  "nbformat_minor": 0,
  "metadata": {
    "colab": {
      "name": "cryptoFox",
      "provenance": [],
      "collapsed_sections": []
    },
    "kernelspec": {
      "name": "python3",
      "display_name": "Python 3"
    }
  },
  "cells": [
    {
      "cell_type": "markdown",
      "metadata": {
        "id": "n34EnB45wpN9"
      },
      "source": [
        "The CryptoFox project is work in progress"
      ]
    },
    {
      "cell_type": "markdown",
      "metadata": {
        "id": "rVrlxLuwOqTj"
      },
      "source": [
        "This article shows the code to manipulate pandas from CSV (used here in this workbook)\n",
        "\n",
        "\n",
        "https://www.learndatasci.com/tutorials/python-finance-part-3-moving-average-trading-strategy/"
      ]
    },
    {
      "cell_type": "markdown",
      "metadata": {
        "id": "cGkfAGxGO1Gs"
      },
      "source": [
        "This is Kaggle for datasets (but not used so far here) https://www.kaggle.com/sudalairajkumar/cryptocurrencypricehistory "
      ]
    },
    {
      "cell_type": "markdown",
      "metadata": {
        "id": "nngSIJQDwdVb"
      },
      "source": [
        "Adding historical BTC data from gdrive "
      ]
    },
    {
      "cell_type": "code",
      "metadata": {
        "id": "6p4QMvHeIGuI",
        "colab": {
          "base_uri": "https://localhost:8080/"
        },
        "outputId": "9d459d0c-9e95-4aca-a3ef-a7dbb1273ae3"
      },
      "source": [
        "from google.colab import drive\n",
        "drive.mount('gdrive')"
      ],
      "execution_count": null,
      "outputs": [
        {
          "output_type": "stream",
          "text": [
            "Drive already mounted at gdrive; to attempt to forcibly remount, call drive.mount(\"gdrive\", force_remount=True).\n"
          ],
          "name": "stdout"
        }
      ]
    },
    {
      "cell_type": "markdown",
      "metadata": {
        "id": "SXmgx42akxDt"
      },
      "source": [
        "go to https://coinmarketcap.com/currencies/bitcoin/historical-data/ and just copy paste the historical data\n",
        "\n",
        "more about what is the short (20 days) and long (100 days ) moving average  here https://blog.liquid.com/how-to-trade-cryptocurrency-using-moving-averages"
      ]
    },
    {
      "cell_type": "markdown",
      "metadata": {
        "id": "CPF9k_fZw3iS"
      },
      "source": [
        "lets connect to the drive and display the data from csv: daily prices of Bitcoin from Aug 2019 to Aug 2021\n",
        "\n",
        "\n",
        "---\n",
        "\n"
      ]
    },
    {
      "cell_type": "code",
      "metadata": {
        "id": "yCuZ6O6LF2Or"
      },
      "source": [
        "#myfile = open('gdrive/My Drive/Colab Notebooks/CryptoFox/hdata_BTC.csv')\n",
        "#print(myfile.read())\n",
        "#this is just to open a file directly without using pandas"
      ],
      "execution_count": null,
      "outputs": []
    },
    {
      "cell_type": "markdown",
      "metadata": {
        "id": "qRURuyokxEr8"
      },
      "source": [
        "Lets calculate the 20 days moving average for BTC"
      ]
    },
    {
      "cell_type": "code",
      "metadata": {
        "colab": {
          "base_uri": "https://localhost:8080/",
          "height": 359
        },
        "id": "-UehFC9yxJR_",
        "outputId": "35b7b17a-edb7-41e7-bfc2-7bf2aa5004a7"
      },
      "source": [
        "import pandas as pd\n",
        "import numpy as np\n",
        "import matplotlib.pyplot as plt\n",
        "import matplotlib.dates as mdates\n",
        "%matplotlib inline\n",
        "import seaborn as sns\n",
        "sns.set(style='darkgrid', context='talk', palette='Dark2')\n",
        "\n",
        "my_year_month_fmt = mdates.DateFormatter('%y/%m/%d')\n",
        "\n",
        "#data = pd.read_pickle('./data.pkl') #this command is to read pickle files\n",
        "hdata = pd.read_csv('gdrive/My Drive/Colab Notebooks/CryptoFox/hdata_BTC.csv') #our data is in csv\n",
        "hdata.head(10)\n"
      ],
      "execution_count": null,
      "outputs": [
        {
          "output_type": "execute_result",
          "data": {
            "text/html": [
              "<div>\n",
              "<style scoped>\n",
              "    .dataframe tbody tr th:only-of-type {\n",
              "        vertical-align: middle;\n",
              "    }\n",
              "\n",
              "    .dataframe tbody tr th {\n",
              "        vertical-align: top;\n",
              "    }\n",
              "\n",
              "    .dataframe thead th {\n",
              "        text-align: right;\n",
              "    }\n",
              "</style>\n",
              "<table border=\"1\" class=\"dataframe\">\n",
              "  <thead>\n",
              "    <tr style=\"text-align: right;\">\n",
              "      <th></th>\n",
              "      <th>Date</th>\n",
              "      <th>Open</th>\n",
              "      <th>High</th>\n",
              "      <th>Low</th>\n",
              "      <th>Close</th>\n",
              "      <th>Volume</th>\n",
              "      <th>MarketCap</th>\n",
              "    </tr>\n",
              "  </thead>\n",
              "  <tbody>\n",
              "    <tr>\n",
              "      <th>0</th>\n",
              "      <td>2021-08-14</td>\n",
              "      <td>$47,810.69</td>\n",
              "      <td>$48,098.68</td>\n",
              "      <td>$46,177.63</td>\n",
              "      <td>$47,096.95</td>\n",
              "      <td>$31,211,354,442</td>\n",
              "      <td>$884,769,956,069</td>\n",
              "    </tr>\n",
              "    <tr>\n",
              "      <th>1</th>\n",
              "      <td>2021-08-13</td>\n",
              "      <td>$44,439.69</td>\n",
              "      <td>$47,831.98</td>\n",
              "      <td>$44,282.42</td>\n",
              "      <td>$47,793.32</td>\n",
              "      <td>$31,744,259,539</td>\n",
              "      <td>$897,802,604,441</td>\n",
              "    </tr>\n",
              "    <tr>\n",
              "      <th>2</th>\n",
              "      <td>2021-08-12</td>\n",
              "      <td>$45,576.88</td>\n",
              "      <td>$46,228.91</td>\n",
              "      <td>$43,861.45</td>\n",
              "      <td>$44,428.29</td>\n",
              "      <td>$33,723,620,826</td>\n",
              "      <td>$834,546,790,666</td>\n",
              "    </tr>\n",
              "    <tr>\n",
              "      <th>3</th>\n",
              "      <td>2021-08-11</td>\n",
              "      <td>$45,599.70</td>\n",
              "      <td>$46,735.63</td>\n",
              "      <td>$45,351.71</td>\n",
              "      <td>$45,593.64</td>\n",
              "      <td>$34,319,709,073</td>\n",
              "      <td>$856,398,622,622</td>\n",
              "    </tr>\n",
              "    <tr>\n",
              "      <th>4</th>\n",
              "      <td>2021-08-10</td>\n",
              "      <td>$46,280.85</td>\n",
              "      <td>$46,637.99</td>\n",
              "      <td>$44,705.56</td>\n",
              "      <td>$45,585.03</td>\n",
              "      <td>$33,546,019,517</td>\n",
              "      <td>$856,195,142,352</td>\n",
              "    </tr>\n",
              "    <tr>\n",
              "      <th>5</th>\n",
              "      <td>2021-08-09</td>\n",
              "      <td>$43,791.93</td>\n",
              "      <td>$46,456.83</td>\n",
              "      <td>$42,848.69</td>\n",
              "      <td>$46,365.40</td>\n",
              "      <td>$38,734,079,049</td>\n",
              "      <td>$870,805,373,889</td>\n",
              "    </tr>\n",
              "    <tr>\n",
              "      <th>6</th>\n",
              "      <td>2021-08-08</td>\n",
              "      <td>$44,574.44</td>\n",
              "      <td>$45,282.35</td>\n",
              "      <td>$43,331.91</td>\n",
              "      <td>$43,798.12</td>\n",
              "      <td>$36,302,664,750</td>\n",
              "      <td>$822,545,074,286</td>\n",
              "    </tr>\n",
              "    <tr>\n",
              "      <th>7</th>\n",
              "      <td>2021-08-07</td>\n",
              "      <td>$42,832.80</td>\n",
              "      <td>$44,689.86</td>\n",
              "      <td>$42,618.57</td>\n",
              "      <td>$44,555.80</td>\n",
              "      <td>$40,030,862,141</td>\n",
              "      <td>$836,730,623,772</td>\n",
              "    </tr>\n",
              "    <tr>\n",
              "      <th>8</th>\n",
              "      <td>2021-08-06</td>\n",
              "      <td>$40,865.87</td>\n",
              "      <td>$43,271.66</td>\n",
              "      <td>$39,932.18</td>\n",
              "      <td>$42,816.50</td>\n",
              "      <td>$38,226,483,046</td>\n",
              "      <td>$804,022,903,682</td>\n",
              "    </tr>\n",
              "    <tr>\n",
              "      <th>9</th>\n",
              "      <td>2021-08-05</td>\n",
              "      <td>$39,744.51</td>\n",
              "      <td>$41,341.93</td>\n",
              "      <td>$37,458.00</td>\n",
              "      <td>$40,869.55</td>\n",
              "      <td>$35,185,031,017</td>\n",
              "      <td>$767,423,192,906</td>\n",
              "    </tr>\n",
              "  </tbody>\n",
              "</table>\n",
              "</div>"
            ],
            "text/plain": [
              "         Date        Open  ...           Volume         MarketCap\n",
              "0  2021-08-14  $47,810.69  ...  $31,211,354,442  $884,769,956,069\n",
              "1  2021-08-13  $44,439.69  ...  $31,744,259,539  $897,802,604,441\n",
              "2  2021-08-12  $45,576.88  ...  $33,723,620,826  $834,546,790,666\n",
              "3  2021-08-11  $45,599.70  ...  $34,319,709,073  $856,398,622,622\n",
              "4  2021-08-10  $46,280.85  ...  $33,546,019,517  $856,195,142,352\n",
              "5  2021-08-09  $43,791.93  ...  $38,734,079,049  $870,805,373,889\n",
              "6  2021-08-08  $44,574.44  ...  $36,302,664,750  $822,545,074,286\n",
              "7  2021-08-07  $42,832.80  ...  $40,030,862,141  $836,730,623,772\n",
              "8  2021-08-06  $40,865.87  ...  $38,226,483,046  $804,022,903,682\n",
              "9  2021-08-05  $39,744.51  ...  $35,185,031,017  $767,423,192,906\n",
              "\n",
              "[10 rows x 7 columns]"
            ]
          },
          "metadata": {
            "tags": []
          },
          "execution_count": 4
        }
      ]
    },
    {
      "cell_type": "code",
      "metadata": {
        "colab": {
          "base_uri": "https://localhost:8080/",
          "height": 669
        },
        "id": "K2ONudb3YlF0",
        "outputId": "c2c16806-4e4d-4515-9829-00f987a41476"
      },
      "source": [
        "headers = [\"Date\", \"Close\"]\n",
        "newhdata = pd.concat([pd.to_datetime(hdata[\"Date\"]), hdata[\"Close\"].str.replace(',', '').str.replace('$', '').astype(float)], axis=1, keys=headers)\n",
        "newhdata.head(20)"
      ],
      "execution_count": null,
      "outputs": [
        {
          "output_type": "execute_result",
          "data": {
            "text/html": [
              "<div>\n",
              "<style scoped>\n",
              "    .dataframe tbody tr th:only-of-type {\n",
              "        vertical-align: middle;\n",
              "    }\n",
              "\n",
              "    .dataframe tbody tr th {\n",
              "        vertical-align: top;\n",
              "    }\n",
              "\n",
              "    .dataframe thead th {\n",
              "        text-align: right;\n",
              "    }\n",
              "</style>\n",
              "<table border=\"1\" class=\"dataframe\">\n",
              "  <thead>\n",
              "    <tr style=\"text-align: right;\">\n",
              "      <th></th>\n",
              "      <th>Date</th>\n",
              "      <th>Close</th>\n",
              "    </tr>\n",
              "  </thead>\n",
              "  <tbody>\n",
              "    <tr>\n",
              "      <th>0</th>\n",
              "      <td>2021-08-14</td>\n",
              "      <td>47096.95</td>\n",
              "    </tr>\n",
              "    <tr>\n",
              "      <th>1</th>\n",
              "      <td>2021-08-13</td>\n",
              "      <td>47793.32</td>\n",
              "    </tr>\n",
              "    <tr>\n",
              "      <th>2</th>\n",
              "      <td>2021-08-12</td>\n",
              "      <td>44428.29</td>\n",
              "    </tr>\n",
              "    <tr>\n",
              "      <th>3</th>\n",
              "      <td>2021-08-11</td>\n",
              "      <td>45593.64</td>\n",
              "    </tr>\n",
              "    <tr>\n",
              "      <th>4</th>\n",
              "      <td>2021-08-10</td>\n",
              "      <td>45585.03</td>\n",
              "    </tr>\n",
              "    <tr>\n",
              "      <th>5</th>\n",
              "      <td>2021-08-09</td>\n",
              "      <td>46365.40</td>\n",
              "    </tr>\n",
              "    <tr>\n",
              "      <th>6</th>\n",
              "      <td>2021-08-08</td>\n",
              "      <td>43798.12</td>\n",
              "    </tr>\n",
              "    <tr>\n",
              "      <th>7</th>\n",
              "      <td>2021-08-07</td>\n",
              "      <td>44555.80</td>\n",
              "    </tr>\n",
              "    <tr>\n",
              "      <th>8</th>\n",
              "      <td>2021-08-06</td>\n",
              "      <td>42816.50</td>\n",
              "    </tr>\n",
              "    <tr>\n",
              "      <th>9</th>\n",
              "      <td>2021-08-05</td>\n",
              "      <td>40869.55</td>\n",
              "    </tr>\n",
              "    <tr>\n",
              "      <th>10</th>\n",
              "      <td>2021-08-04</td>\n",
              "      <td>39747.51</td>\n",
              "    </tr>\n",
              "    <tr>\n",
              "      <th>11</th>\n",
              "      <td>2021-08-03</td>\n",
              "      <td>38152.98</td>\n",
              "    </tr>\n",
              "    <tr>\n",
              "      <th>12</th>\n",
              "      <td>2021-08-02</td>\n",
              "      <td>39201.95</td>\n",
              "    </tr>\n",
              "    <tr>\n",
              "      <th>13</th>\n",
              "      <td>2021-08-01</td>\n",
              "      <td>39974.90</td>\n",
              "    </tr>\n",
              "    <tr>\n",
              "      <th>14</th>\n",
              "      <td>2021-07-31</td>\n",
              "      <td>41626.20</td>\n",
              "    </tr>\n",
              "    <tr>\n",
              "      <th>15</th>\n",
              "      <td>2021-07-30</td>\n",
              "      <td>42235.55</td>\n",
              "    </tr>\n",
              "    <tr>\n",
              "      <th>16</th>\n",
              "      <td>2021-07-29</td>\n",
              "      <td>40008.42</td>\n",
              "    </tr>\n",
              "    <tr>\n",
              "      <th>17</th>\n",
              "      <td>2021-07-28</td>\n",
              "      <td>39995.91</td>\n",
              "    </tr>\n",
              "    <tr>\n",
              "      <th>18</th>\n",
              "      <td>2021-07-27</td>\n",
              "      <td>39406.94</td>\n",
              "    </tr>\n",
              "    <tr>\n",
              "      <th>19</th>\n",
              "      <td>2021-07-26</td>\n",
              "      <td>37337.53</td>\n",
              "    </tr>\n",
              "  </tbody>\n",
              "</table>\n",
              "</div>"
            ],
            "text/plain": [
              "         Date     Close\n",
              "0  2021-08-14  47096.95\n",
              "1  2021-08-13  47793.32\n",
              "2  2021-08-12  44428.29\n",
              "3  2021-08-11  45593.64\n",
              "4  2021-08-10  45585.03\n",
              "5  2021-08-09  46365.40\n",
              "6  2021-08-08  43798.12\n",
              "7  2021-08-07  44555.80\n",
              "8  2021-08-06  42816.50\n",
              "9  2021-08-05  40869.55\n",
              "10 2021-08-04  39747.51\n",
              "11 2021-08-03  38152.98\n",
              "12 2021-08-02  39201.95\n",
              "13 2021-08-01  39974.90\n",
              "14 2021-07-31  41626.20\n",
              "15 2021-07-30  42235.55\n",
              "16 2021-07-29  40008.42\n",
              "17 2021-07-28  39995.91\n",
              "18 2021-07-27  39406.94\n",
              "19 2021-07-26  37337.53"
            ]
          },
          "metadata": {
            "tags": []
          },
          "execution_count": 5
        }
      ]
    },
    {
      "cell_type": "code",
      "metadata": {
        "colab": {
          "base_uri": "https://localhost:8080/"
        },
        "id": "mfRiJ1zeeHnW",
        "outputId": "923626fd-7b38-4ce3-8183-7b5d911e6465"
      },
      "source": [
        "#make the date column the table index \n",
        "data = newhdata.set_index(['Date']).iloc[::-1]\n",
        "# using .iloc[::-1] to invert the table as the dates we get from the web are sorted from earliest day on top\n",
        "print(data)"
      ],
      "execution_count": null,
      "outputs": [
        {
          "output_type": "stream",
          "text": [
            "               Close\n",
            "Date                \n",
            "2019-08-02  10518.17\n",
            "2019-08-03  10821.73\n",
            "2019-08-04  10970.18\n",
            "2019-08-05  11805.65\n",
            "2019-08-06  11478.17\n",
            "...              ...\n",
            "2021-08-10  45585.03\n",
            "2021-08-11  45593.64\n",
            "2021-08-12  44428.29\n",
            "2021-08-13  47793.32\n",
            "2021-08-14  47096.95\n",
            "\n",
            "[744 rows x 1 columns]\n"
          ],
          "name": "stdout"
        }
      ]
    },
    {
      "cell_type": "code",
      "metadata": {
        "colab": {
          "base_uri": "https://localhost:8080/"
        },
        "id": "n7zJuxc9ZKsz",
        "outputId": "440dad9e-610c-4f89-9b84-64411e436f26"
      },
      "source": [
        "dataTypeSeries = data.dtypes\n",
        "print(dataTypeSeries)"
      ],
      "execution_count": null,
      "outputs": [
        {
          "output_type": "stream",
          "text": [
            "Close    float64\n",
            "dtype: object\n"
          ],
          "name": "stdout"
        }
      ]
    },
    {
      "cell_type": "code",
      "metadata": {
        "colab": {
          "base_uri": "https://localhost:8080/",
          "height": 700
        },
        "id": "ZpYSG9fOxfFn",
        "outputId": "f2296646-7b44-4ddb-e901-028679188486"
      },
      "source": [
        "# Calculating the short-window simple moving average\n",
        "short_rolling = data.rolling(window=20).mean()\n",
        "short_rolling.head(20)"
      ],
      "execution_count": null,
      "outputs": [
        {
          "output_type": "execute_result",
          "data": {
            "text/html": [
              "<div>\n",
              "<style scoped>\n",
              "    .dataframe tbody tr th:only-of-type {\n",
              "        vertical-align: middle;\n",
              "    }\n",
              "\n",
              "    .dataframe tbody tr th {\n",
              "        vertical-align: top;\n",
              "    }\n",
              "\n",
              "    .dataframe thead th {\n",
              "        text-align: right;\n",
              "    }\n",
              "</style>\n",
              "<table border=\"1\" class=\"dataframe\">\n",
              "  <thead>\n",
              "    <tr style=\"text-align: right;\">\n",
              "      <th></th>\n",
              "      <th>Close</th>\n",
              "    </tr>\n",
              "    <tr>\n",
              "      <th>Date</th>\n",
              "      <th></th>\n",
              "    </tr>\n",
              "  </thead>\n",
              "  <tbody>\n",
              "    <tr>\n",
              "      <th>2019-08-02</th>\n",
              "      <td>NaN</td>\n",
              "    </tr>\n",
              "    <tr>\n",
              "      <th>2019-08-03</th>\n",
              "      <td>NaN</td>\n",
              "    </tr>\n",
              "    <tr>\n",
              "      <th>2019-08-04</th>\n",
              "      <td>NaN</td>\n",
              "    </tr>\n",
              "    <tr>\n",
              "      <th>2019-08-05</th>\n",
              "      <td>NaN</td>\n",
              "    </tr>\n",
              "    <tr>\n",
              "      <th>2019-08-06</th>\n",
              "      <td>NaN</td>\n",
              "    </tr>\n",
              "    <tr>\n",
              "      <th>2019-08-07</th>\n",
              "      <td>NaN</td>\n",
              "    </tr>\n",
              "    <tr>\n",
              "      <th>2019-08-08</th>\n",
              "      <td>NaN</td>\n",
              "    </tr>\n",
              "    <tr>\n",
              "      <th>2019-08-09</th>\n",
              "      <td>NaN</td>\n",
              "    </tr>\n",
              "    <tr>\n",
              "      <th>2019-08-10</th>\n",
              "      <td>NaN</td>\n",
              "    </tr>\n",
              "    <tr>\n",
              "      <th>2019-08-11</th>\n",
              "      <td>NaN</td>\n",
              "    </tr>\n",
              "    <tr>\n",
              "      <th>2019-08-12</th>\n",
              "      <td>NaN</td>\n",
              "    </tr>\n",
              "    <tr>\n",
              "      <th>2019-08-13</th>\n",
              "      <td>NaN</td>\n",
              "    </tr>\n",
              "    <tr>\n",
              "      <th>2019-08-14</th>\n",
              "      <td>NaN</td>\n",
              "    </tr>\n",
              "    <tr>\n",
              "      <th>2019-08-15</th>\n",
              "      <td>NaN</td>\n",
              "    </tr>\n",
              "    <tr>\n",
              "      <th>2019-08-16</th>\n",
              "      <td>NaN</td>\n",
              "    </tr>\n",
              "    <tr>\n",
              "      <th>2019-08-17</th>\n",
              "      <td>NaN</td>\n",
              "    </tr>\n",
              "    <tr>\n",
              "      <th>2019-08-18</th>\n",
              "      <td>NaN</td>\n",
              "    </tr>\n",
              "    <tr>\n",
              "      <th>2019-08-19</th>\n",
              "      <td>NaN</td>\n",
              "    </tr>\n",
              "    <tr>\n",
              "      <th>2019-08-20</th>\n",
              "      <td>NaN</td>\n",
              "    </tr>\n",
              "    <tr>\n",
              "      <th>2019-08-21</th>\n",
              "      <td>10982.687</td>\n",
              "    </tr>\n",
              "  </tbody>\n",
              "</table>\n",
              "</div>"
            ],
            "text/plain": [
              "                Close\n",
              "Date                 \n",
              "2019-08-02        NaN\n",
              "2019-08-03        NaN\n",
              "2019-08-04        NaN\n",
              "2019-08-05        NaN\n",
              "2019-08-06        NaN\n",
              "2019-08-07        NaN\n",
              "2019-08-08        NaN\n",
              "2019-08-09        NaN\n",
              "2019-08-10        NaN\n",
              "2019-08-11        NaN\n",
              "2019-08-12        NaN\n",
              "2019-08-13        NaN\n",
              "2019-08-14        NaN\n",
              "2019-08-15        NaN\n",
              "2019-08-16        NaN\n",
              "2019-08-17        NaN\n",
              "2019-08-18        NaN\n",
              "2019-08-19        NaN\n",
              "2019-08-20        NaN\n",
              "2019-08-21  10982.687"
            ]
          },
          "metadata": {
            "tags": []
          },
          "execution_count": 15
        }
      ]
    },
    {
      "cell_type": "code",
      "metadata": {
        "colab": {
          "base_uri": "https://localhost:8080/",
          "height": 390
        },
        "id": "uDZ3GWM6LpEk",
        "outputId": "fb5bae84-335d-40f0-e9d7-e3b9caff8724"
      },
      "source": [
        "# Calculating the long-window simple moving average\n",
        "long_rolling = data.rolling(window=100).mean()\n",
        "long_rolling.tail(10)"
      ],
      "execution_count": null,
      "outputs": [
        {
          "output_type": "execute_result",
          "data": {
            "text/html": [
              "<div>\n",
              "<style scoped>\n",
              "    .dataframe tbody tr th:only-of-type {\n",
              "        vertical-align: middle;\n",
              "    }\n",
              "\n",
              "    .dataframe tbody tr th {\n",
              "        vertical-align: top;\n",
              "    }\n",
              "\n",
              "    .dataframe thead th {\n",
              "        text-align: right;\n",
              "    }\n",
              "</style>\n",
              "<table border=\"1\" class=\"dataframe\">\n",
              "  <thead>\n",
              "    <tr style=\"text-align: right;\">\n",
              "      <th></th>\n",
              "      <th>Close</th>\n",
              "    </tr>\n",
              "    <tr>\n",
              "      <th>Date</th>\n",
              "      <th></th>\n",
              "    </tr>\n",
              "  </thead>\n",
              "  <tbody>\n",
              "    <tr>\n",
              "      <th>2021-08-05</th>\n",
              "      <td>39469.6762</td>\n",
              "    </tr>\n",
              "    <tr>\n",
              "      <th>2021-08-06</th>\n",
              "      <td>39349.5942</td>\n",
              "    </tr>\n",
              "    <tr>\n",
              "      <th>2021-08-07</th>\n",
              "      <td>39259.6011</td>\n",
              "    </tr>\n",
              "    <tr>\n",
              "      <th>2021-08-08</th>\n",
              "      <td>39120.0805</td>\n",
              "    </tr>\n",
              "    <tr>\n",
              "      <th>2021-08-09</th>\n",
              "      <td>39005.4540</td>\n",
              "    </tr>\n",
              "    <tr>\n",
              "      <th>2021-08-10</th>\n",
              "      <td>38894.9935</td>\n",
              "    </tr>\n",
              "    <tr>\n",
              "      <th>2021-08-11</th>\n",
              "      <td>38778.9270</td>\n",
              "    </tr>\n",
              "    <tr>\n",
              "      <th>2021-08-12</th>\n",
              "      <td>38689.8745</td>\n",
              "    </tr>\n",
              "    <tr>\n",
              "      <th>2021-08-13</th>\n",
              "      <td>38593.5676</td>\n",
              "    </tr>\n",
              "    <tr>\n",
              "      <th>2021-08-14</th>\n",
              "      <td>38500.5720</td>\n",
              "    </tr>\n",
              "  </tbody>\n",
              "</table>\n",
              "</div>"
            ],
            "text/plain": [
              "                 Close\n",
              "Date                  \n",
              "2021-08-05  39469.6762\n",
              "2021-08-06  39349.5942\n",
              "2021-08-07  39259.6011\n",
              "2021-08-08  39120.0805\n",
              "2021-08-09  39005.4540\n",
              "2021-08-10  38894.9935\n",
              "2021-08-11  38778.9270\n",
              "2021-08-12  38689.8745\n",
              "2021-08-13  38593.5676\n",
              "2021-08-14  38500.5720"
            ]
          },
          "metadata": {
            "tags": []
          },
          "execution_count": 16
        }
      ]
    },
    {
      "cell_type": "code",
      "metadata": {
        "colab": {
          "base_uri": "https://localhost:8080/",
          "height": 551
        },
        "id": "Bqr3YQX4CYqt",
        "outputId": "d19dc91b-698f-4054-d800-5431e99c9ef5"
      },
      "source": [
        "start_date = '2019-08-02'\n",
        "end_date = '2021-08-14'\n",
        "\n",
        "fig, ax = plt.subplots(figsize=(16,9))\n",
        "\n",
        "\n",
        "ax.plot(data.loc[start_date:end_date, :].index, data.loc[start_date:end_date, 'Close'], label='Price')\n",
        "ax.plot(long_rolling.loc[start_date:end_date, :].index, long_rolling.loc[start_date:end_date, 'Close'], label = '100-days SMA')\n",
        "ax.plot(short_rolling.loc[start_date:end_date, :].index, short_rolling.loc[start_date:end_date, 'Close'], label = '20-days SMA')\n",
        "\n",
        "ax.legend(loc='best')\n",
        "ax.set_ylabel('Price in $')\n",
        "ax.xaxis.set_major_formatter(my_year_month_fmt)"
      ],
      "execution_count": null,
      "outputs": [
        {
          "output_type": "display_data",
          "data": {
            "image/png": "[encoded data removed]",
            "text/plain": [
              "<Figure size 1152x648 with 1 Axes>"
            ]
          },
          "metadata": {
            "tags": []
          }
        }
      ]
    },
    {
      "cell_type": "markdown",
      "metadata": {
        "id": "w_oBqzXAg9gD"
      },
      "source": [
        "Based on the chart above would you invest or not? leave your comments on my github page!"
      ]
    },
    {
      "cell_type": "markdown",
      "metadata": {
        "id": "tvgX_LRIRqFI"
      },
      "source": [
        "here is the code to replace the pandas with programmatic access to Binance exchange (to be used in the future)\n",
        "\n",
        "https://colab.research.google.com/drive/1N0oareSybnEmrUJIB_EkLrrapjr24LP1?usp=sharing#scrollTo=tYPzqCTW0Rg8"
      ]
    },
    {
      "cell_type": "markdown",
      "metadata": {
        "id": "igfG_W4H-i-7"
      },
      "source": [
        "Next project crypto price prediction. \n",
        "\n",
        "Features to predict price of crypto:\n",
        "\n",
        "1) Exchange data\n",
        "2) Technical analysis indicators\n",
        "3) Bitcoin dominance\n",
        "4) Social volume and sentiment\n",
        "5) Search volume and sentiment"
      ]
    }
  ]
}